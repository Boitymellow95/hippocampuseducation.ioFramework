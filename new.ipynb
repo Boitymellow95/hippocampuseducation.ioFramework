{
 "cells": [
  {
   "cell_type": "code",
   "execution_count": 4,
   "id": "c30c1e96",
   "metadata": {},
   "outputs": [
    {
     "data": {
      "text/html": [
       "        <script type=\"text/javascript\">\n",
       "        window.PlotlyConfig = {MathJaxConfig: 'local'};\n",
       "        if (window.MathJax && window.MathJax.Hub && window.MathJax.Hub.Config) {window.MathJax.Hub.Config({SVG: {font: \"STIX-Web\"}});}\n",
       "        if (typeof require !== 'undefined') {\n",
       "        require.undef(\"plotly\");\n",
       "        requirejs.config({\n",
       "            paths: {\n",
       "                'plotly': ['https://cdn.plot.ly/plotly-2.12.1.min']\n",
       "            }\n",
       "        });\n",
       "        require(['plotly'], function(Plotly) {\n",
       "            window._Plotly = Plotly;\n",
       "        });\n",
       "        }\n",
       "        </script>\n",
       "        "
      ]
     },
     "metadata": {},
     "output_type": "display_data"
    }
   ],
   "source": [
    "# LOADING NECESSARY LIBRARIES\n",
    "\n",
    "from mpl_toolkits.mplot3d import Axes3D\n",
    "from sklearn.preprocessing import StandardScaler\n",
    "import matplotlib.pyplot as plt # plotting\n",
    "import numpy as np # linear algebra\n",
    "import os # accessing directory structure\n",
    "import pandas as pd # data processing, CSV file I/O (e.g. pd.read_csv)\n",
    "import seaborn as sns\n",
    "sns.set_style('whitegrid')\n",
    "import datetime  as dt\n",
    "import time  \n",
    "import pdpipe as pdp #allowing a linear series of data transforms to be linked together, resulting in a measurable modeling process\n",
    "from typing import Tuple, List, Dict \n",
    "from plotly.offline import init_notebook_mode, iplot\n",
    "init_notebook_mode(connected=True)\n",
    "import glob \n",
    "import plotly.graph_objects as go \n",
    "import plotly.graph_objects as go\n",
    "from plotly.subplots import make_subplots\n",
    "import plotly.express as px\n",
    "import plotly.offline\n",
    "import category_encoders as ce\n",
    "\n",
    "%matplotlib inline\n",
    "from warnings import filterwarnings\n",
    "filterwarnings('ignore')\n",
    "\n",
    "\n",
    "\n",
    "from sklearn.model_selection import GridSearchCV\n",
    "from plotly import tools\n",
    "\n",
    "import plotly.offline as pyoff #not sure wat this does \n",
    "import plotly.graph_objs as go #this tooo lol \n",
    "\n",
    "from plotly.offline import init_notebook_mode, iplot\n",
    "\n",
    "import plotly.figure_factory as ff\n",
    "from sklearn.preprocessing import LabelEncoder\n",
    "from sklearn.model_selection import train_test_split\n",
    "from sklearn.linear_model import LogisticRegression"
   ]
  },
  {
   "cell_type": "code",
   "execution_count": 15,
   "id": "66992f18",
   "metadata": {},
   "outputs": [],
   "source": [
    "read_file = pd.read_excel (\"new.xlsx\")"
   ]
  },
  {
   "cell_type": "markdown",
   "id": "f86077f0",
   "metadata": {},
   "source": [
    "**convert xml to csv file for data preparation**"
   ]
  },
  {
   "cell_type": "code",
   "execution_count": 16,
   "id": "51c1eab5",
   "metadata": {},
   "outputs": [],
   "source": [
    "read_file.to_csv (\"new.csv\", \n",
    "                  index = None,\n",
    "                  header=True)"
   ]
  },
  {
   "cell_type": "code",
   "execution_count": 17,
   "id": "ba016693",
   "metadata": {},
   "outputs": [
    {
     "data": {
      "text/html": [
       "<div>\n",
       "<style scoped>\n",
       "    .dataframe tbody tr th:only-of-type {\n",
       "        vertical-align: middle;\n",
       "    }\n",
       "\n",
       "    .dataframe tbody tr th {\n",
       "        vertical-align: top;\n",
       "    }\n",
       "\n",
       "    .dataframe thead th {\n",
       "        text-align: right;\n",
       "    }\n",
       "</style>\n",
       "<table border=\"1\" class=\"dataframe\">\n",
       "  <thead>\n",
       "    <tr style=\"text-align: right;\">\n",
       "      <th></th>\n",
       "      <th>student_ID</th>\n",
       "      <th>Questions</th>\n",
       "      <th>score</th>\n",
       "      <th>Course_outcome</th>\n",
       "      <th>Method_used</th>\n",
       "      <th>Attempt_count</th>\n",
       "      <th>Difficulty_level</th>\n",
       "      <th>pass_mark</th>\n",
       "    </tr>\n",
       "  </thead>\n",
       "  <tbody>\n",
       "    <tr>\n",
       "      <th>0</th>\n",
       "      <td>2425844</td>\n",
       "      <td>Q1</td>\n",
       "      <td>67.0</td>\n",
       "      <td>1</td>\n",
       "      <td>child</td>\n",
       "      <td>2</td>\n",
       "      <td>medium</td>\n",
       "      <td>above-55</td>\n",
       "    </tr>\n",
       "    <tr>\n",
       "      <th>1</th>\n",
       "      <td>2425844</td>\n",
       "      <td>Q2</td>\n",
       "      <td>67.0</td>\n",
       "      <td>1</td>\n",
       "      <td>child</td>\n",
       "      <td>1</td>\n",
       "      <td>medium</td>\n",
       "      <td>below-55</td>\n",
       "    </tr>\n",
       "    <tr>\n",
       "      <th>2</th>\n",
       "      <td>2425844</td>\n",
       "      <td>Q3</td>\n",
       "      <td>100.0</td>\n",
       "      <td>1</td>\n",
       "      <td>parent</td>\n",
       "      <td>1</td>\n",
       "      <td>hard</td>\n",
       "      <td>above-55</td>\n",
       "    </tr>\n",
       "    <tr>\n",
       "      <th>3</th>\n",
       "      <td>2425844</td>\n",
       "      <td>Q4</td>\n",
       "      <td>100.0</td>\n",
       "      <td>1</td>\n",
       "      <td>parent</td>\n",
       "      <td>1</td>\n",
       "      <td>hard</td>\n",
       "      <td>above-55</td>\n",
       "    </tr>\n",
       "    <tr>\n",
       "      <th>4</th>\n",
       "      <td>2425844</td>\n",
       "      <td>Q5</td>\n",
       "      <td>100.0</td>\n",
       "      <td>1</td>\n",
       "      <td>parent</td>\n",
       "      <td>1</td>\n",
       "      <td>hard</td>\n",
       "      <td>above-55</td>\n",
       "    </tr>\n",
       "    <tr>\n",
       "      <th>...</th>\n",
       "      <td>...</td>\n",
       "      <td>...</td>\n",
       "      <td>...</td>\n",
       "      <td>...</td>\n",
       "      <td>...</td>\n",
       "      <td>...</td>\n",
       "      <td>...</td>\n",
       "      <td>...</td>\n",
       "    </tr>\n",
       "    <tr>\n",
       "      <th>77</th>\n",
       "      <td>2242332</td>\n",
       "      <td>Q1</td>\n",
       "      <td>100.0</td>\n",
       "      <td>1</td>\n",
       "      <td>parent</td>\n",
       "      <td>1</td>\n",
       "      <td>hard</td>\n",
       "      <td>above-55</td>\n",
       "    </tr>\n",
       "    <tr>\n",
       "      <th>78</th>\n",
       "      <td>2242332</td>\n",
       "      <td>Q2</td>\n",
       "      <td>0.0</td>\n",
       "      <td>0</td>\n",
       "      <td>explanation</td>\n",
       "      <td>2</td>\n",
       "      <td>easy</td>\n",
       "      <td>below-55</td>\n",
       "    </tr>\n",
       "    <tr>\n",
       "      <th>79</th>\n",
       "      <td>2242332</td>\n",
       "      <td>Q3</td>\n",
       "      <td>57.0</td>\n",
       "      <td>1</td>\n",
       "      <td>none</td>\n",
       "      <td>2</td>\n",
       "      <td>easy</td>\n",
       "      <td>above-55</td>\n",
       "    </tr>\n",
       "    <tr>\n",
       "      <th>80</th>\n",
       "      <td>2242332</td>\n",
       "      <td>Q4</td>\n",
       "      <td>100.0</td>\n",
       "      <td>1</td>\n",
       "      <td>parent</td>\n",
       "      <td>1</td>\n",
       "      <td>hard</td>\n",
       "      <td>above-55</td>\n",
       "    </tr>\n",
       "    <tr>\n",
       "      <th>81</th>\n",
       "      <td>2242332</td>\n",
       "      <td>Q5</td>\n",
       "      <td>100.0</td>\n",
       "      <td>1</td>\n",
       "      <td>parent</td>\n",
       "      <td>1</td>\n",
       "      <td>hard</td>\n",
       "      <td>above-55</td>\n",
       "    </tr>\n",
       "  </tbody>\n",
       "</table>\n",
       "<p>82 rows × 8 columns</p>\n",
       "</div>"
      ],
      "text/plain": [
       "    student_ID Questions  score  Course_outcome  Method_used  Attempt_count  \\\n",
       "0      2425844        Q1   67.0               1        child              2   \n",
       "1      2425844        Q2   67.0               1        child              1   \n",
       "2      2425844        Q3  100.0               1       parent              1   \n",
       "3      2425844        Q4  100.0               1       parent              1   \n",
       "4      2425844        Q5  100.0               1       parent              1   \n",
       "..         ...       ...    ...             ...          ...            ...   \n",
       "77     2242332        Q1  100.0               1       parent              1   \n",
       "78     2242332        Q2    0.0               0  explanation              2   \n",
       "79     2242332        Q3   57.0               1         none              2   \n",
       "80     2242332        Q4  100.0               1       parent              1   \n",
       "81     2242332        Q5  100.0               1       parent              1   \n",
       "\n",
       "   Difficulty_level pass_mark  \n",
       "0            medium  above-55  \n",
       "1            medium  below-55  \n",
       "2              hard  above-55  \n",
       "3              hard  above-55  \n",
       "4              hard  above-55  \n",
       "..              ...       ...  \n",
       "77             hard  above-55  \n",
       "78             easy  below-55  \n",
       "79             easy  above-55  \n",
       "80             hard  above-55  \n",
       "81             hard  above-55  \n",
       "\n",
       "[82 rows x 8 columns]"
      ]
     },
     "execution_count": 17,
     "metadata": {},
     "output_type": "execute_result"
    }
   ],
   "source": [
    "data = pd.DataFrame(pd.read_csv(\"new.csv\"))\n",
    "\n",
    "data"
   ]
  },
  {
   "cell_type": "code",
   "execution_count": 18,
   "id": "8433e461",
   "metadata": {},
   "outputs": [
    {
     "data": {
      "text/html": [
       "<div>\n",
       "<style scoped>\n",
       "    .dataframe tbody tr th:only-of-type {\n",
       "        vertical-align: middle;\n",
       "    }\n",
       "\n",
       "    .dataframe tbody tr th {\n",
       "        vertical-align: top;\n",
       "    }\n",
       "\n",
       "    .dataframe thead th {\n",
       "        text-align: right;\n",
       "    }\n",
       "</style>\n",
       "<table border=\"1\" class=\"dataframe\">\n",
       "  <thead>\n",
       "    <tr style=\"text-align: right;\">\n",
       "      <th></th>\n",
       "      <th>student_ID</th>\n",
       "      <th>Questions</th>\n",
       "      <th>score</th>\n",
       "      <th>Course_outcome</th>\n",
       "      <th>Method_used</th>\n",
       "      <th>Attempt_count</th>\n",
       "      <th>Difficulty_level</th>\n",
       "      <th>pass_mark</th>\n",
       "    </tr>\n",
       "  </thead>\n",
       "  <tbody>\n",
       "    <tr>\n",
       "      <th>77</th>\n",
       "      <td>2242332</td>\n",
       "      <td>Q1</td>\n",
       "      <td>100.0</td>\n",
       "      <td>1</td>\n",
       "      <td>parent</td>\n",
       "      <td>1</td>\n",
       "      <td>hard</td>\n",
       "      <td>above-55</td>\n",
       "    </tr>\n",
       "    <tr>\n",
       "      <th>78</th>\n",
       "      <td>2242332</td>\n",
       "      <td>Q2</td>\n",
       "      <td>0.0</td>\n",
       "      <td>0</td>\n",
       "      <td>explanation</td>\n",
       "      <td>2</td>\n",
       "      <td>easy</td>\n",
       "      <td>below-55</td>\n",
       "    </tr>\n",
       "    <tr>\n",
       "      <th>79</th>\n",
       "      <td>2242332</td>\n",
       "      <td>Q3</td>\n",
       "      <td>57.0</td>\n",
       "      <td>1</td>\n",
       "      <td>none</td>\n",
       "      <td>2</td>\n",
       "      <td>easy</td>\n",
       "      <td>above-55</td>\n",
       "    </tr>\n",
       "    <tr>\n",
       "      <th>80</th>\n",
       "      <td>2242332</td>\n",
       "      <td>Q4</td>\n",
       "      <td>100.0</td>\n",
       "      <td>1</td>\n",
       "      <td>parent</td>\n",
       "      <td>1</td>\n",
       "      <td>hard</td>\n",
       "      <td>above-55</td>\n",
       "    </tr>\n",
       "    <tr>\n",
       "      <th>81</th>\n",
       "      <td>2242332</td>\n",
       "      <td>Q5</td>\n",
       "      <td>100.0</td>\n",
       "      <td>1</td>\n",
       "      <td>parent</td>\n",
       "      <td>1</td>\n",
       "      <td>hard</td>\n",
       "      <td>above-55</td>\n",
       "    </tr>\n",
       "  </tbody>\n",
       "</table>\n",
       "</div>"
      ],
      "text/plain": [
       "    student_ID Questions  score  Course_outcome  Method_used  Attempt_count  \\\n",
       "77     2242332        Q1  100.0               1       parent              1   \n",
       "78     2242332        Q2    0.0               0  explanation              2   \n",
       "79     2242332        Q3   57.0               1         none              2   \n",
       "80     2242332        Q4  100.0               1       parent              1   \n",
       "81     2242332        Q5  100.0               1       parent              1   \n",
       "\n",
       "   Difficulty_level pass_mark  \n",
       "77             hard  above-55  \n",
       "78             easy  below-55  \n",
       "79             easy  above-55  \n",
       "80             hard  above-55  \n",
       "81             hard  above-55  "
      ]
     },
     "execution_count": 18,
     "metadata": {},
     "output_type": "execute_result"
    }
   ],
   "source": [
    "data.tail()"
   ]
  },
  {
   "cell_type": "code",
   "execution_count": 19,
   "id": "64087311",
   "metadata": {},
   "outputs": [
    {
     "data": {
      "text/plain": [
       "student_ID          0\n",
       "Questions           0\n",
       "score               0\n",
       "Course_outcome      0\n",
       "Method_used         0\n",
       "Attempt_count       0\n",
       "Difficulty_level    0\n",
       "pass_mark           0\n",
       "dtype: int64"
      ]
     },
     "execution_count": 19,
     "metadata": {},
     "output_type": "execute_result"
    }
   ],
   "source": [
    "#check missing data\n",
    "data.isnull().sum()"
   ]
  },
  {
   "cell_type": "markdown",
   "id": "5a041b97",
   "metadata": {},
   "source": [
    "**DEALING WITH CATEGORIAL FEATURES**"
   ]
  },
  {
   "cell_type": "markdown",
   "id": "72c22bc1",
   "metadata": {},
   "source": [
    "EXPLORATORY DATA ANALYSIS"
   ]
  },
  {
   "cell_type": "code",
   "execution_count": 20,
   "id": "c05b3c84",
   "metadata": {},
   "outputs": [
    {
     "data": {
      "text/plain": [
       "Text(0.5, 1.0, 'Percentage score')"
      ]
     },
     "execution_count": 20,
     "metadata": {},
     "output_type": "execute_result"
    },
    {
     "data": {
      "image/png": "[encoded data removed]",
      "text/plain": [
       "<Figure size 432x288 with 1 Axes>"
      ]
     },
     "metadata": {
      "needs_background": "light"
     },
     "output_type": "display_data"
    }
   ],
   "source": [
    "sns.countplot(x='pass_mark', data=data).set_title('Percentage score')"
   ]
  },
  {
   "cell_type": "code",
   "execution_count": 26,
   "id": "1690c347",
   "metadata": {},
   "outputs": [
    {
     "data": {
      "text/plain": [
       "Text(0.5, 1.0, 'Counts of Attempts')"
      ]
     },
     "execution_count": 26,
     "metadata": {},
     "output_type": "execute_result"
    },
    {
     "data": {
      "image/png": "[encoded data removed]",
      "text/plain": [
       "<Figure size 432x288 with 1 Axes>"
      ]
     },
     "metadata": {
      "needs_background": "light"
     },
     "output_type": "display_data"
    }
   ],
   "source": [
    "sns.countplot(x='Attempt_count', data=data).set_title('Counts of Attempts')"
   ]
  },
  {
   "cell_type": "code",
   "execution_count": 25,
   "id": "44238013",
   "metadata": {},
   "outputs": [
    {
     "name": "stdout",
     "output_type": "stream",
     "text": [
      "percentage parent            0.573171\n",
      "solution          0.182927\n",
      "child             0.048780\n",
      "lecture           0.036585\n",
      "video             0.036585\n",
      "explanation       0.036585\n",
      "grand child       0.024390\n",
      "none              0.024390\n",
      "textbook&video    0.012195\n",
      "textbook          0.012195\n",
      "textbook          0.012195\n",
      "Name: Method_used, dtype: float64\n"
     ]
    },
    {
     "data": {
      "text/plain": [
       "<AxesSubplot:>"
      ]
     },
     "execution_count": 25,
     "metadata": {},
     "output_type": "execute_result"
    },
    {
     "data": {
      "image/png": "[encoded data removed]",
      "text/plain": [
       "<Figure size 432x288 with 1 Axes>"
      ]
     },
     "metadata": {
      "needs_background": "light"
     },
     "output_type": "display_data"
    }
   ],
   "source": [
    "print('percentage',data.Method_used.value_counts(normalize=True))\n",
    "data.Method_used.value_counts(normalize=True).plot(kind='bar')"
   ]
  },
  {
   "cell_type": "code",
   "execution_count": 27,
   "id": "45cd950f",
   "metadata": {},
   "outputs": [
    {
     "data": {
      "text/plain": [
       "Text(0.5, 1.0, 'Which questions are students passing')"
      ]
     },
     "execution_count": 27,
     "metadata": {},
     "output_type": "execute_result"
    },
    {
     "data": {
      "image/png": "[encoded data removed]",
      "text/plain": [
       "<Figure size 432x288 with 1 Axes>"
      ]
     },
     "metadata": {
      "needs_background": "light"
     },
     "output_type": "display_data"
    }
   ],
   "source": [
    "sns.countplot(x='Difficulty_level', data=data).set_title('Which questions are students passing')"
   ]
  },
  {
   "cell_type": "code",
   "execution_count": null,
   "id": "e6e3a43d",
   "metadata": {},
   "outputs": [],
   "source": []
  },
  {
   "cell_type": "code",
   "execution_count": 30,
   "id": "f6bf5386",
   "metadata": {},
   "outputs": [
    {
     "data": {
      "text/plain": [
       "<AxesSubplot:xlabel='pass_mark', ylabel='count'>"
      ]
     },
     "execution_count": 30,
     "metadata": {},
     "output_type": "execute_result"
    },
    {
     "data": {
      "image/png": "[encoded data removed]",
      "text/plain": [
       "<Figure size 720x720 with 2 Axes>"
      ]
     },
     "metadata": {
      "needs_background": "light"
     },
     "output_type": "display_data"
    }
   ],
   "source": [
    "\n",
    "fig, (axis1, axis2)  = plt.subplots(2, 1,figsize=(10,10))\n",
    "sns.countplot(x='Questions', hue='Difficulty_level', data=data, ax=axis1)\n",
    "sns.countplot(x='pass_mark', hue='Attempt_count', data=data, ax=axis2)"
   ]
  },
  {
   "cell_type": "markdown",
   "id": "14b2943f",
   "metadata": {},
   "source": [
    "**Attempt count vs question**"
   ]
  },
  {
   "cell_type": "code",
   "execution_count": 31,
   "id": "03a1fe20",
   "metadata": {},
   "outputs": [
    {
     "data": {
      "text/plain": [
       "<AxesSubplot:xlabel='Questions', ylabel='count'>"
      ]
     },
     "execution_count": 31,
     "metadata": {},
     "output_type": "execute_result"
    },
    {
     "data": {
      "image/png": "[encoded data removed]",
      "text/plain": [
       "<Figure size 720x720 with 2 Axes>"
      ]
     },
     "metadata": {
      "needs_background": "light"
     },
     "output_type": "display_data"
    }
   ],
   "source": [
    "\n",
    "fig, (axis1, axis2)  = plt.subplots(2, 1,figsize=(10,10))\n",
    "sns.countplot(x='Questions', hue='Course_outcome', data=data, ax=axis1)\n",
    "sns.countplot(x='Questions', hue='Attempt_count', data=data, ax=axis2)"
   ]
  },
  {
   "cell_type": "code",
   "execution_count": null,
   "id": "db5a2043",
   "metadata": {},
   "outputs": [],
   "source": []
  }
 ],
 "metadata": {
  "kernelspec": {
   "display_name": "Python 3 (ipykernel)",
   "language": "python",
   "name": "python3"
  },
  "language_info": {
   "codemirror_mode": {
    "name": "ipython",
    "version": 3
   },
   "file_extension": ".py",
   "mimetype": "text/x-python",
   "name": "python",
   "nbconvert_exporter": "python",
   "pygments_lexer": "ipython3",
   "version": "3.9.12"
  }
 },
 "nbformat": 4,
 "nbformat_minor": 5
}
