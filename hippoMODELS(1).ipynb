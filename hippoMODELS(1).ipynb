{
 "cells": [
  {
   "cell_type": "markdown",
   "metadata": {
    "id": "uQnjnKSM2spN"
   },
   "source": [
    "hippocampuseducation  learning pattens and prediction models \n",
    "import libraries\n",
    "\n"
   ]
  },
  {
   "cell_type": "markdown",
   "metadata": {
    "id": "QQgpEygYBpwG"
   },
   "source": []
  },
  {
   "cell_type": "markdown",
   "metadata": {
    "id": "7bN7exYu2rb0"
   },
   "source": []
  },
  {
   "cell_type": "code",
   "execution_count": 54,
   "metadata": {
    "id": "Tf2X8-6V2Rwh"
   },
   "outputs": [],
   "source": [
    "# LOADING NECESSARY LIBRARIES\n",
    "\n",
    "from mpl_toolkits.mplot3d import Axes3D\n",
    "from sklearn.preprocessing import StandardScaler\n",
    "import matplotlib.pyplot as plt # plotting\n",
    "import numpy as np # linear algebra\n",
    "import os # accessing directory structure\n",
    "import pandas as pd # data processing, CSV file I/O (e.g. pd.read_csv)\n",
    "import seaborn as sns\n",
    "import datetime\n",
    "import time\n",
    "%matplotlib inline\n",
    "from warnings import filterwarnings\n",
    "filterwarnings('ignore')"
   ]
  },
  {
   "cell_type": "code",
   "execution_count": 55,
   "metadata": {},
   "outputs": [
    {
     "data": {
      "text/plain": [
       "<Figure size 864x360 with 0 Axes>"
      ]
     },
     "metadata": {},
     "output_type": "display_data"
    }
   ],
   "source": [
    "#make wider graphs\n",
    "sns.set(rc={'figure.figsize':(12,5)});\n",
    "plt.figure(figsize=(12,5));"
   ]
  },
  {
   "cell_type": "code",
   "execution_count": 16,
   "metadata": {},
   "outputs": [],
   "source": [
    "# READING THE DATA SET\n",
    "\n",
    "df = pd.read_csv('hippo.csv') "
   ]
  },
  {
   "cell_type": "code",
   "execution_count": 2,
   "metadata": {},
   "outputs": [],
   "source": [
    "df = pd.read_csv('courses.csv')"
   ]
  },
  {
   "cell_type": "code",
   "execution_count": null,
   "metadata": {},
   "outputs": [],
   "source": [
    "df = pd.read_csv('assessments.csv')"
   ]
  },
  {
   "cell_type": "code",
   "execution_count": 56,
   "metadata": {},
   "outputs": [],
   "source": [
    "df = pd.read_csv('set2.csv')"
   ]
  },
  {
   "cell_type": "code",
   "execution_count": 57,
   "metadata": {
    "id": "dgUBc1fC2pYI"
   },
   "outputs": [
    {
     "data": {
      "text/html": [
       "<div>\n",
       "<style scoped>\n",
       "    .dataframe tbody tr th:only-of-type {\n",
       "        vertical-align: middle;\n",
       "    }\n",
       "\n",
       "    .dataframe tbody tr th {\n",
       "        vertical-align: top;\n",
       "    }\n",
       "\n",
       "    .dataframe thead th {\n",
       "        text-align: right;\n",
       "    }\n",
       "</style>\n",
       "<table border=\"1\" class=\"dataframe\">\n",
       "  <thead>\n",
       "    <tr style=\"text-align: right;\">\n",
       "      <th></th>\n",
       "      <th>student_ID;Q1_duaration;Q2_rate;Q3_rate;Q4_rate;Q5_rate;Q1_mark;Q2_mark;Q3_Mark;Q4_Mark;Q5_Mark</th>\n",
       "    </tr>\n",
       "  </thead>\n",
       "  <tbody>\n",
       "    <tr>\n",
       "      <th>0</th>\n",
       "      <td>2425844;9;2;8;0;0;fail;pass;pass;pass;fail</td>\n",
       "    </tr>\n",
       "    <tr>\n",
       "      <th>1</th>\n",
       "      <td>2466429;8;1h42;0;0;0;pass;fail;fail;fail;fail</td>\n",
       "    </tr>\n",
       "    <tr>\n",
       "      <th>2</th>\n",
       "      <td>2387231;38;3h52m;3;4;0;fail;fail;pass;fail;fail</td>\n",
       "    </tr>\n",
       "    <tr>\n",
       "      <th>3</th>\n",
       "      <td>2489211;0;;0;0;0;0;fail;fail;fail;fail</td>\n",
       "    </tr>\n",
       "    <tr>\n",
       "      <th>4</th>\n",
       "      <td>2455304;0;0;;0;0;0;fail;fail;fail;fail</td>\n",
       "    </tr>\n",
       "  </tbody>\n",
       "</table>\n",
       "</div>"
      ],
      "text/plain": [
       "  student_ID;Q1_duaration;Q2_rate;Q3_rate;Q4_rate;Q5_rate;Q1_mark;Q2_mark;Q3_Mark;Q4_Mark;Q5_Mark\n",
       "0         2425844;9;2;8;0;0;fail;pass;pass;pass;fail                                             \n",
       "1      2466429;8;1h42;0;0;0;pass;fail;fail;fail;fail                                             \n",
       "2    2387231;38;3h52m;3;4;0;fail;fail;pass;fail;fail                                             \n",
       "3             2489211;0;;0;0;0;0;fail;fail;fail;fail                                             \n",
       "4             2455304;0;0;;0;0;0;fail;fail;fail;fail                                             "
      ]
     },
     "execution_count": 57,
     "metadata": {},
     "output_type": "execute_result"
    }
   ],
   "source": [
    "\n",
    "\n",
    "df.head()\n",
    "\n"
   ]
  },
  {
   "cell_type": "code",
   "execution_count": 58,
   "metadata": {
    "id": "SUzYNekz2pZE"
   },
   "outputs": [
    {
     "data": {
      "text/html": [
       "<div>\n",
       "<style scoped>\n",
       "    .dataframe tbody tr th:only-of-type {\n",
       "        vertical-align: middle;\n",
       "    }\n",
       "\n",
       "    .dataframe tbody tr th {\n",
       "        vertical-align: top;\n",
       "    }\n",
       "\n",
       "    .dataframe thead th {\n",
       "        text-align: right;\n",
       "    }\n",
       "</style>\n",
       "<table border=\"1\" class=\"dataframe\">\n",
       "  <thead>\n",
       "    <tr style=\"text-align: right;\">\n",
       "      <th></th>\n",
       "      <th>student_ID;Q1_duaration;Q2_rate;Q3_rate;Q4_rate;Q5_rate;Q1_mark;Q2_mark;Q3_Mark;Q4_Mark;Q5_Mark</th>\n",
       "    </tr>\n",
       "  </thead>\n",
       "  <tbody>\n",
       "    <tr>\n",
       "      <th>13</th>\n",
       "      <td>2256349;0;0;0;0;0;0;0;0;0;0</td>\n",
       "    </tr>\n",
       "    <tr>\n",
       "      <th>14</th>\n",
       "      <td>2242332;0;0;0;0;0;0;0;0;0;0</td>\n",
       "    </tr>\n",
       "    <tr>\n",
       "      <th>15</th>\n",
       "      <td>1603806;10;22;9;4;0;0;0;0;0;0</td>\n",
       "    </tr>\n",
       "    <tr>\n",
       "      <th>16</th>\n",
       "      <td>2429308;15;0;0;5;fail;fail;fail;fail;pass;fail</td>\n",
       "    </tr>\n",
       "    <tr>\n",
       "      <th>17</th>\n",
       "      <td>2443532;0;0;0;0;0;fail;fail;fail;fail;fail</td>\n",
       "    </tr>\n",
       "  </tbody>\n",
       "</table>\n",
       "</div>"
      ],
      "text/plain": [
       "   student_ID;Q1_duaration;Q2_rate;Q3_rate;Q4_rate;Q5_rate;Q1_mark;Q2_mark;Q3_Mark;Q4_Mark;Q5_Mark\n",
       "13                        2256349;0;0;0;0;0;0;0;0;0;0                                             \n",
       "14                        2242332;0;0;0;0;0;0;0;0;0;0                                             \n",
       "15                      1603806;10;22;9;4;0;0;0;0;0;0                                             \n",
       "16     2429308;15;0;0;5;fail;fail;fail;fail;pass;fail                                             \n",
       "17         2443532;0;0;0;0;0;fail;fail;fail;fail;fail                                             "
      ]
     },
     "execution_count": 58,
     "metadata": {},
     "output_type": "execute_result"
    }
   ],
   "source": [
    "df.tail()"
   ]
  },
  {
   "cell_type": "code",
   "execution_count": 59,
   "metadata": {},
   "outputs": [],
   "source": [
    "col_names=['student_ID', 'Q1_duaration', 'Q2_rate', 'Q3_rate','Q4_rate','Q5_rate','Q1_mark','Q2_mark','Q3_Mark','Q4_Mark','Q5_Mark'] \n",
    "df = pd.read_csv('set2.csv', names=col_names)"
   ]
  },
  {
   "cell_type": "code",
   "execution_count": 60,
   "metadata": {},
   "outputs": [
    {
     "data": {
      "text/plain": [
       "['.ipynb_checkpoints',\n",
       " 'assessments.csv',\n",
       " 'courses.csv',\n",
       " 'hippo.csv',\n",
       " 'hippocampusdataset.csv',\n",
       " 'hippoMODELS.ipynb',\n",
       " 'set2.csv',\n",
       " 'set2.xlsx',\n",
       " 'Untitled9.ipynb',\n",
       " '~$set2.xlsx']"
      ]
     },
     "execution_count": 60,
     "metadata": {},
     "output_type": "execute_result"
    }
   ],
   "source": [
    "os.listdir()"
   ]
  },
  {
   "cell_type": "code",
   "execution_count": 61,
   "metadata": {},
   "outputs": [
    {
     "data": {
      "text/html": [
       "<div>\n",
       "<style scoped>\n",
       "    .dataframe tbody tr th:only-of-type {\n",
       "        vertical-align: middle;\n",
       "    }\n",
       "\n",
       "    .dataframe tbody tr th {\n",
       "        vertical-align: top;\n",
       "    }\n",
       "\n",
       "    .dataframe thead th {\n",
       "        text-align: right;\n",
       "    }\n",
       "</style>\n",
       "<table border=\"1\" class=\"dataframe\">\n",
       "  <thead>\n",
       "    <tr style=\"text-align: right;\">\n",
       "      <th></th>\n",
       "      <th>student_ID</th>\n",
       "      <th>Q1_duaration</th>\n",
       "      <th>Q2_rate</th>\n",
       "      <th>Q3_rate</th>\n",
       "      <th>Q4_rate</th>\n",
       "      <th>Q5_rate</th>\n",
       "      <th>Q1_mark</th>\n",
       "      <th>Q2_mark</th>\n",
       "      <th>Q3_Mark</th>\n",
       "      <th>Q4_Mark</th>\n",
       "      <th>Q5_Mark</th>\n",
       "    </tr>\n",
       "  </thead>\n",
       "  <tbody>\n",
       "    <tr>\n",
       "      <th>0</th>\n",
       "      <td>student_ID;Q1_duaration;Q2_rate;Q3_rate;Q4_rat...</td>\n",
       "      <td>NaN</td>\n",
       "      <td>NaN</td>\n",
       "      <td>NaN</td>\n",
       "      <td>NaN</td>\n",
       "      <td>NaN</td>\n",
       "      <td>NaN</td>\n",
       "      <td>NaN</td>\n",
       "      <td>NaN</td>\n",
       "      <td>NaN</td>\n",
       "      <td>NaN</td>\n",
       "    </tr>\n",
       "    <tr>\n",
       "      <th>1</th>\n",
       "      <td>2425844;9;2;8;0;0;fail;pass;pass;pass;fail</td>\n",
       "      <td>NaN</td>\n",
       "      <td>NaN</td>\n",
       "      <td>NaN</td>\n",
       "      <td>NaN</td>\n",
       "      <td>NaN</td>\n",
       "      <td>NaN</td>\n",
       "      <td>NaN</td>\n",
       "      <td>NaN</td>\n",
       "      <td>NaN</td>\n",
       "      <td>NaN</td>\n",
       "    </tr>\n",
       "    <tr>\n",
       "      <th>2</th>\n",
       "      <td>2466429;8;1h42;0;0;0;pass;fail;fail;fail;fail</td>\n",
       "      <td>NaN</td>\n",
       "      <td>NaN</td>\n",
       "      <td>NaN</td>\n",
       "      <td>NaN</td>\n",
       "      <td>NaN</td>\n",
       "      <td>NaN</td>\n",
       "      <td>NaN</td>\n",
       "      <td>NaN</td>\n",
       "      <td>NaN</td>\n",
       "      <td>NaN</td>\n",
       "    </tr>\n",
       "    <tr>\n",
       "      <th>3</th>\n",
       "      <td>2387231;38;3h52m;3;4;0;fail;fail;pass;fail;fail</td>\n",
       "      <td>NaN</td>\n",
       "      <td>NaN</td>\n",
       "      <td>NaN</td>\n",
       "      <td>NaN</td>\n",
       "      <td>NaN</td>\n",
       "      <td>NaN</td>\n",
       "      <td>NaN</td>\n",
       "      <td>NaN</td>\n",
       "      <td>NaN</td>\n",
       "      <td>NaN</td>\n",
       "    </tr>\n",
       "    <tr>\n",
       "      <th>4</th>\n",
       "      <td>2489211;0;;0;0;0;0;fail;fail;fail;fail</td>\n",
       "      <td>NaN</td>\n",
       "      <td>NaN</td>\n",
       "      <td>NaN</td>\n",
       "      <td>NaN</td>\n",
       "      <td>NaN</td>\n",
       "      <td>NaN</td>\n",
       "      <td>NaN</td>\n",
       "      <td>NaN</td>\n",
       "      <td>NaN</td>\n",
       "      <td>NaN</td>\n",
       "    </tr>\n",
       "  </tbody>\n",
       "</table>\n",
       "</div>"
      ],
      "text/plain": [
       "                                          student_ID  Q1_duaration  Q2_rate  \\\n",
       "0  student_ID;Q1_duaration;Q2_rate;Q3_rate;Q4_rat...           NaN      NaN   \n",
       "1         2425844;9;2;8;0;0;fail;pass;pass;pass;fail           NaN      NaN   \n",
       "2      2466429;8;1h42;0;0;0;pass;fail;fail;fail;fail           NaN      NaN   \n",
       "3    2387231;38;3h52m;3;4;0;fail;fail;pass;fail;fail           NaN      NaN   \n",
       "4             2489211;0;;0;0;0;0;fail;fail;fail;fail           NaN      NaN   \n",
       "\n",
       "   Q3_rate  Q4_rate  Q5_rate  Q1_mark  Q2_mark  Q3_Mark  Q4_Mark  Q5_Mark  \n",
       "0      NaN      NaN      NaN      NaN      NaN      NaN      NaN      NaN  \n",
       "1      NaN      NaN      NaN      NaN      NaN      NaN      NaN      NaN  \n",
       "2      NaN      NaN      NaN      NaN      NaN      NaN      NaN      NaN  \n",
       "3      NaN      NaN      NaN      NaN      NaN      NaN      NaN      NaN  \n",
       "4      NaN      NaN      NaN      NaN      NaN      NaN      NaN      NaN  "
      ]
     },
     "execution_count": 61,
     "metadata": {},
     "output_type": "execute_result"
    }
   ],
   "source": [
    "df.head()"
   ]
  },
  {
   "cell_type": "code",
   "execution_count": 41,
   "metadata": {},
   "outputs": [
    {
     "data": {
      "text/plain": [
       "student_ID       0\n",
       "Q1_duaration    19\n",
       "Q2_rate         19\n",
       "Q3_rate         19\n",
       "Q4_rate         19\n",
       "Q5_rate         19\n",
       "Q1_mark         19\n",
       "Q2_mark         19\n",
       "Q3_Mark         19\n",
       "Q4_Mark         19\n",
       "Q5_Mark         19\n",
       "dtype: int64"
      ]
     },
     "execution_count": 41,
     "metadata": {},
     "output_type": "execute_result"
    }
   ],
   "source": [
    "# IS THERE ANY NAN VALUE IN THE DATA SET?\n",
    "\n",
    "df.isnull().sum()"
   ]
  },
  {
   "cell_type": "code",
   "execution_count": 44,
   "metadata": {},
   "outputs": [],
   "source": [
    "\n",
    "\n",
    "# DEALING THE NAN DATA only in q2_rates\n",
    "\n",
    "df['Q2_rate'] = df['Q2_rate'].fillna('-')\n",
    "\n"
   ]
  },
  {
   "cell_type": "code",
   "execution_count": 51,
   "metadata": {},
   "outputs": [
    {
     "name": "stdout",
     "output_type": "stream",
     "text": [
      "   student_ID;Q1_duaration;Q2_rate;Q3_rate;Q4_rate;Q5_rate;Q1_mark;Q2_mark;Q3_Mark;Q4_Mark;Q5_Mark\n",
      "0          2425844;9;2;8;0;0;fail;pass;pass;pass;fail                                             \n",
      "1       2466429;8;1h42;0;0;0;pass;fail;fail;fail;fail                                             \n",
      "2     2387231;38;3h52m;3;4;0;fail;fail;pass;fail;fail                                             \n",
      "3              2489211;0;;0;0;0;0;fail;fail;fail;fail                                             \n",
      "4              2455304;0;0;;0;0;0;fail;fail;fail;fail                                             \n",
      "5         1849534;18;0;0;0;0;fail;fail;fail;fail;fail                                             \n",
      "6              2483688;2d6h00;0;0;0;0;0;0;0;fail;fail                                             \n",
      "7                   2328014;0;0;0;0;0;0;0;0;fail;fail                                             \n",
      "8                   2431095;0;0;0;0;0;0;0;0;fail;fail                                             \n",
      "9               2483953;57;0;0;0;0;fail;0;0;fail;fail                                             \n",
      "10  2298399;1h18;26;12;1h42;5;fail;fail;pass;fail;...                                             \n",
      "11                        2284382;0;0;0;0;0;0;0;0;0;0                                             \n",
      "12                        2270366;0;0;0;0;0;0;0;0;0;0                                             \n",
      "13                        2256349;0;0;0;0;0;0;0;0;0;0                                             \n",
      "14                        2242332;0;0;0;0;0;0;0;0;0;0                                             \n",
      "15                      1603806;10;22;9;4;0;0;0;0;0;0                                             \n",
      "16     2429308;15;0;0;5;fail;fail;fail;fail;pass;fail                                             \n",
      "17         2443532;0;0;0;0;0;fail;fail;fail;fail;fail                                             \n"
     ]
    },
    {
     "ename": "AttributeError",
     "evalue": "'DataFrame' object has no attribute 'Q2_rate'",
     "output_type": "error",
     "traceback": [
      "\u001b[1;31m---------------------------------------------------------------------------\u001b[0m",
      "\u001b[1;31mAttributeError\u001b[0m                            Traceback (most recent call last)",
      "Input \u001b[1;32mIn [51]\u001b[0m, in \u001b[0;36m<cell line: 5>\u001b[1;34m()\u001b[0m\n\u001b[0;32m      3\u001b[0m \u001b[38;5;28mprint\u001b[39m(df)\n\u001b[0;32m      4\u001b[0m \u001b[38;5;66;03m# See content in 'Q2_rate'\u001b[39;00m\n\u001b[1;32m----> 5\u001b[0m \u001b[38;5;28mprint\u001b[39m(\u001b[43mdf\u001b[49m\u001b[38;5;241;43m.\u001b[39;49m\u001b[43mQ2_rate\u001b[49m)\n",
      "File \u001b[1;32m~\\anaconda3\\lib\\site-packages\\pandas\\core\\generic.py:5575\u001b[0m, in \u001b[0;36mNDFrame.__getattr__\u001b[1;34m(self, name)\u001b[0m\n\u001b[0;32m   5568\u001b[0m \u001b[38;5;28;01mif\u001b[39;00m (\n\u001b[0;32m   5569\u001b[0m     name \u001b[38;5;129;01mnot\u001b[39;00m \u001b[38;5;129;01min\u001b[39;00m \u001b[38;5;28mself\u001b[39m\u001b[38;5;241m.\u001b[39m_internal_names_set\n\u001b[0;32m   5570\u001b[0m     \u001b[38;5;129;01mand\u001b[39;00m name \u001b[38;5;129;01mnot\u001b[39;00m \u001b[38;5;129;01min\u001b[39;00m \u001b[38;5;28mself\u001b[39m\u001b[38;5;241m.\u001b[39m_metadata\n\u001b[0;32m   5571\u001b[0m     \u001b[38;5;129;01mand\u001b[39;00m name \u001b[38;5;129;01mnot\u001b[39;00m \u001b[38;5;129;01min\u001b[39;00m \u001b[38;5;28mself\u001b[39m\u001b[38;5;241m.\u001b[39m_accessors\n\u001b[0;32m   5572\u001b[0m     \u001b[38;5;129;01mand\u001b[39;00m \u001b[38;5;28mself\u001b[39m\u001b[38;5;241m.\u001b[39m_info_axis\u001b[38;5;241m.\u001b[39m_can_hold_identifiers_and_holds_name(name)\n\u001b[0;32m   5573\u001b[0m ):\n\u001b[0;32m   5574\u001b[0m     \u001b[38;5;28;01mreturn\u001b[39;00m \u001b[38;5;28mself\u001b[39m[name]\n\u001b[1;32m-> 5575\u001b[0m \u001b[38;5;28;01mreturn\u001b[39;00m \u001b[38;5;28;43mobject\u001b[39;49m\u001b[38;5;241;43m.\u001b[39;49m\u001b[38;5;21;43m__getattribute__\u001b[39;49m\u001b[43m(\u001b[49m\u001b[38;5;28;43mself\u001b[39;49m\u001b[43m,\u001b[49m\u001b[43m \u001b[49m\u001b[43mname\u001b[49m\u001b[43m)\u001b[49m\n",
      "\u001b[1;31mAttributeError\u001b[0m: 'DataFrame' object has no attribute 'Q2_rate'"
     ]
    }
   ],
   "source": [
    "df = pd.read_csv('set2.csv', skipinitialspace=True)\n",
    "# See the keys\n",
    "print(df)\n",
    "# See content in 'Q2_rate'\n",
    "print(df.Q2_rate)"
   ]
  },
  {
   "cell_type": "code",
   "execution_count": 45,
   "metadata": {},
   "outputs": [
    {
     "name": "stdout",
     "output_type": "stream",
     "text": [
      "<class 'pandas.core.frame.DataFrame'>\n",
      "RangeIndex: 19 entries, 0 to 18\n",
      "Data columns (total 11 columns):\n",
      " #   Column        Non-Null Count  Dtype  \n",
      "---  ------        --------------  -----  \n",
      " 0   student_ID    19 non-null     object \n",
      " 1   Q1_duaration  0 non-null      float64\n",
      " 2   Q2_rate       19 non-null     object \n",
      " 3   Q3_rate       0 non-null      float64\n",
      " 4   Q4_rate       0 non-null      float64\n",
      " 5   Q5_rate       0 non-null      float64\n",
      " 6   Q1_mark       0 non-null      float64\n",
      " 7   Q2_mark       0 non-null      float64\n",
      " 8   Q3_Mark       0 non-null      float64\n",
      " 9   Q4_Mark       0 non-null      float64\n",
      " 10  Q5_Mark       0 non-null      float64\n",
      "dtypes: float64(9), object(2)\n",
      "memory usage: 1.8+ KB\n"
     ]
    }
   ],
   "source": [
    "# ANALYSING THE DATA TYPES\n",
    "\n",
    "df.info()"
   ]
  },
  {
   "cell_type": "code",
   "execution_count": null,
   "metadata": {},
   "outputs": [],
   "source": [
    "# ELIMINATING UNNECESSARY COLUMNS\n",
    "\n",
    "df = df.drop(columns=['Launch Date', 'Year', 'Honor Code Certificates', '% Certified of > 50% Course Content Accessed',\n",
    "                      '% Played Video', '% Grade Higher Than Zero', 'Total Course Hours (Thousands)',\n",
    "                      'Median Hours for Certification'])\n",
    "df.head()"
   ]
  },
  {
   "cell_type": "code",
   "execution_count": null,
   "metadata": {},
   "outputs": [],
   "source": []
  },
  {
   "cell_type": "code",
   "execution_count": 9,
   "metadata": {
    "id": "DLUmP3dEa2Lh"
   },
   "outputs": [],
   "source": [
    "def DescriptiveStatistics(df):\n",
    "    print(\"No of rwos and columns information:\",df.shape)\n",
    "    print(\"\")\n",
    "    print(\"---\"*20)\n",
    "    print(\"\")\n",
    "    print(\"Columns:\")\n",
    "    print(\"\")\n",
    "    print(df.columns.values)\n",
    "    print(\"---\"*20)\n",
    "    print(\"\")\n",
    "    print(df.info())\n",
    "    print(\"---\"*20)\n",
    "    print(\"\")\n",
    "    print(df.describe())"
   ]
  },
  {
   "cell_type": "code",
   "execution_count": 6,
   "metadata": {
    "id": "kxUfHO3ha22B"
   },
   "outputs": [
    {
     "name": "stdout",
     "output_type": "stream",
     "text": [
      "No of rwos and columns information: (22, 1)\n",
      "\n",
      "------------------------------------------------------------\n",
      "\n",
      "Columns:\n",
      "\n",
      "['code_module, \"Q1_passed\", \"Q2_PassAtempts\",']\n",
      "------------------------------------------------------------\n",
      "\n",
      "<class 'pandas.core.frame.DataFrame'>\n",
      "RangeIndex: 22 entries, 0 to 21\n",
      "Data columns (total 1 columns):\n",
      " #   Column                                       Non-Null Count  Dtype \n",
      "---  ------                                       --------------  ----- \n",
      " 0   code_module, \"Q1_passed\", \"Q2_PassAtempts\",  22 non-null     object\n",
      "dtypes: object(1)\n",
      "memory usage: 304.0+ bytes\n",
      "None\n",
      "------------------------------------------------------------\n",
      "\n",
      "       code_module, \"Q1_passed\", \"Q2_PassAtempts\",\n",
      "count                                           22\n",
      "unique                                          15\n",
      "top                        Chemistry,\"2014J\",\"269\"\n",
      "freq                                             3\n"
     ]
    }
   ],
   "source": [
    "\n",
    "\n",
    "DescriptiveStatistics(df)\n",
    "\n"
   ]
  },
  {
   "cell_type": "code",
   "execution_count": 36,
   "metadata": {
    "id": "8jwicH8la2-I"
   },
   "outputs": [],
   "source": [
    "def CheckMissingInfo(df):\n",
    "    print(df.isnull().sum())\n",
    "    print(\"---\"*20)\n",
    "    print(\"\")\n",
    "    df_na = (df.isnull().sum() / len(df)) * 100\n",
    "    df_na = df_na.drop(df_na[df_na == 0].index).sort_values(ascending=False)[:30]\n",
    "    missing_data = pd.DataFrame({'Missing Ratio' :df_na})\n",
    "    print(missing_data)"
   ]
  },
  {
   "cell_type": "code",
   "execution_count": 37,
   "metadata": {
    "id": "cx7h2ubma3FD"
   },
   "outputs": [
    {
     "name": "stdout",
     "output_type": "stream",
     "text": [
      "student_id;start_assesment ;end_assesment;video duaration for set1;date;question_1;question_1.1;view_solution;q_1.1.1;q1.2;q1.1.2;watch video ;q1.1.3;text book;1.3;Explanation;duaration_1;lecture;q2;q2.1;q2.1.1;q 2.1.2;q2.1.3;duaration q2                                                                                                          0\n",
      "2nd attempt;q2.2;q2.3;see explanation;view solution;textbook;lecture;video;q3;q3.1;q3.2;duaration q3                                                                                                                                                                                                                                                   14\n",
      "2nd attempt;q3.3;q3.1.1;q 3.1.2;q3.1.3;q3.1.1;view_solution;Video;textbook;lecture;see explanation;q4;q4.1;view solution;q4.1.1;video;q4.1.2;q4.2;q4.1.3;q4.3;duaration for 2nd attem q4;lecture;textbook;see explanation;q5;q 5.1;q 5.1.1;q5.1.2;q5.1.3;q5.2;q5.3;duaration on q5 2nd attempt;view solution;Video;textbook;lecture;see explanation    14\n",
      "dtype: int64\n",
      "------------------------------------------------------------\n",
      "\n",
      "                                                    Missing Ratio\n",
      "2nd attempt;q2.2;q2.3;see explanation;view solu...          100.0\n",
      "2nd attempt;q3.3;q3.1.1;q 3.1.2;q3.1.3;q3.1.1;v...          100.0\n"
     ]
    }
   ],
   "source": [
    "\n",
    "\n",
    "CheckMissingInfo(df)\n",
    "\n"
   ]
  },
  {
   "cell_type": "code",
   "execution_count": 10,
   "metadata": {
    "id": "26zPKQ5Wa3QD"
   },
   "outputs": [],
   "source": [
    "def GetColumnCount(df):\n",
    "    int_columns = [col for col in df.columns if(df[col].dtype != \"object\")]\n",
    "    print(\"No of integer type columns:\",len(int_columns))\n",
    "    print(int_columns)\n",
    "    print(\"\")\n",
    "    obj_columns = [col for col in df.columns if(df[col].dtype == \"object\")]\n",
    "    print(\"No of object type columns:\",len(obj_columns))\n",
    "    print(obj_columns)\n",
    "    return int_columns,obj_columns"
   ]
  },
  {
   "cell_type": "code",
   "execution_count": 11,
   "metadata": {
    "id": "BMuNCc6tdpM6"
   },
   "outputs": [
    {
     "name": "stdout",
     "output_type": "stream",
     "text": [
      "No of integer type columns: 0\n",
      "[]\n",
      "\n",
      "No of object type columns: 1\n",
      "['student_ID;Q1_duaration;Q2_rate;Q3_rate;Q4_rate;Q5_rate;Q1_mark;Q2_mark;Q3_Mark;Q4_Mark;Q5_Mark']\n"
     ]
    }
   ],
   "source": [
    "int_columns,obj_columns = GetColumnCount(df)"
   ]
  },
  {
   "cell_type": "code",
   "execution_count": null,
   "metadata": {
    "id": "dAP9DvBcdpbv"
   },
   "outputs": [],
   "source": []
  },
  {
   "cell_type": "markdown",
   "metadata": {
    "id": "8nf43lVPd8_F"
   },
   "source": [
    "VISUALS OF THE DATASET bold text"
   ]
  },
  {
   "cell_type": "code",
   "execution_count": 12,
   "metadata": {
    "id": "hGw2sbmZdpc9"
   },
   "outputs": [],
   "source": [
    "def GetCountPlots(df,obj_columns):\n",
    "    for col in obj_columns:\n",
    "        if(len(df[col].value_counts()) < 5):\n",
    "            plt.figure(figsize=(5,5))\n",
    "        else:\n",
    "            plt.figure(figsize=(12,6))\n",
    "        print(sns.countplot(x=col, data=df, palette=\"muted\"))\n",
    "        plt.show()"
   ]
  },
  {
   "cell_type": "code",
   "execution_count": 13,
   "metadata": {},
   "outputs": [
    {
     "data": {
      "text/plain": [
       "<AxesSubplot:ylabel='Density'>"
      ]
     },
     "execution_count": 13,
     "metadata": {},
     "output_type": "execute_result"
    },
    {
     "data": {
      "image/png": "[encoded data removed]",
      "text/plain": [
       "<Figure size 432x288 with 1 Axes>"
      ]
     },
     "metadata": {},
     "output_type": "display_data"
    }
   ],
   "source": [
    "sns.set(); np.random.seed(0)\n",
    "x = np.random.randn(100)\n",
    "\n",
    "sns.distplot(x)"
   ]
  },
  {
   "cell_type": "code",
   "execution_count": 14,
   "metadata": {},
   "outputs": [
    {
     "name": "stdout",
     "output_type": "stream",
     "text": [
      "Requirement already satisfied: statsmodels in c:\\users\\boitu\\anaconda3\\lib\\site-packages (0.13.2)\n",
      "Requirement already satisfied: numpy>=1.17 in c:\\users\\boitu\\anaconda3\\lib\\site-packages (from statsmodels) (1.21.5)\n",
      "Requirement already satisfied: scipy>=1.3 in c:\\users\\boitu\\anaconda3\\lib\\site-packages (from statsmodels) (1.7.3)\n",
      "Requirement already satisfied: pandas>=0.25 in c:\\users\\boitu\\anaconda3\\lib\\site-packages (from statsmodels) (1.4.2)\n",
      "Requirement already satisfied: patsy>=0.5.2 in c:\\users\\boitu\\anaconda3\\lib\\site-packages (from statsmodels) (0.5.2)\n",
      "Requirement already satisfied: packaging>=21.3 in c:\\users\\boitu\\anaconda3\\lib\\site-packages (from statsmodels) (21.3)\n",
      "Requirement already satisfied: pyparsing!=3.0.5,>=2.0.2 in c:\\users\\boitu\\anaconda3\\lib\\site-packages (from packaging>=21.3->statsmodels) (3.0.4)Note: you may need to restart the kernel to use updated packages.\n",
      "\n",
      "Requirement already satisfied: pytz>=2020.1 in c:\\users\\boitu\\anaconda3\\lib\\site-packages (from pandas>=0.25->statsmodels) (2021.3)\n",
      "Requirement already satisfied: python-dateutil>=2.8.1 in c:\\users\\boitu\\anaconda3\\lib\\site-packages (from pandas>=0.25->statsmodels) (2.8.2)\n",
      "Requirement already satisfied: six in c:\\users\\boitu\\anaconda3\\lib\\site-packages (from patsy>=0.5.2->statsmodels) (1.16.0)\n"
     ]
    }
   ],
   "source": [
    "pip install -U statsmodels"
   ]
  },
  {
   "cell_type": "code",
   "execution_count": 43,
   "metadata": {},
   "outputs": [
    {
     "name": "stderr",
     "output_type": "stream",
     "text": [
      "C:\\Users\\boitu\\anaconda3\\lib\\site-packages\\seaborn\\distributions.py:2619: FutureWarning: `distplot` is a deprecated function and will be removed in a future version. Please adapt your code to use either `displot` (a figure-level function with similar flexibility) or `histplot` (an axes-level function for histograms).\n",
      "  warnings.warn(msg, FutureWarning)\n"
     ]
    },
    {
     "data": {
      "image/png": "[encoded data removed]",
      "text/plain": [
       "<Figure size 432x288 with 1 Axes>"
      ]
     },
     "metadata": {},
     "output_type": "display_data"
    }
   ],
   "source": [
    "sns.distplot(x, bins=50, kde=False)\n",
    "plt.show()"
   ]
  },
  {
   "cell_type": "code",
   "execution_count": 15,
   "metadata": {
    "id": "81Fd18K1dpec"
   },
   "outputs": [
    {
     "name": "stdout",
     "output_type": "stream",
     "text": [
      "AxesSubplot(0.125,0.125;0.775x0.755)\n"
     ]
    },
    {
     "data": {
      "image/png": "[encoded data removed]",
      "text/plain": [
       "<Figure size 864x432 with 1 Axes>"
      ]
     },
     "metadata": {},
     "output_type": "display_data"
    }
   ],
   "source": [
    "#bargraph of the learning events \n",
    "\n",
    "GetCountPlots(df,obj_columns)\n",
    "\n"
   ]
  },
  {
   "cell_type": "code",
   "execution_count": 16,
   "metadata": {
    "id": "8Gu9CeE9erJ_"
   },
   "outputs": [],
   "source": [
    "\n",
    "\n",
    "def GetCardinality(df,obj_columns):\n",
    "    for col in obj_columns:\n",
    "        print(\"{0} :: {1}\".format(col,len(df[col].value_counts())))\n",
    "        \n",
    "        print(df[col].value_counts())\n",
    "        print(\"\")\n",
    "\n"
   ]
  },
  {
   "cell_type": "code",
   "execution_count": 17,
   "metadata": {
    "id": "xQAgcjJpeyrs"
   },
   "outputs": [
    {
     "name": "stdout",
     "output_type": "stream",
     "text": [
      "student_ID;Q1_duaration;Q2_rate;Q3_rate;Q4_rate;Q5_rate;Q1_mark;Q2_mark;Q3_Mark;Q4_Mark;Q5_Mark :: 18\n",
      "2425844;9;2;8;0;0;fail;pass;pass;pass;fail            1\n",
      "2466429;8;1h42;0;0;0;pass;fail;fail;fail;fail         1\n",
      "2429308;15;0;0;5;fail;fail;fail;fail;pass;fail        1\n",
      "1603806;10;22;9;4;0;0;0;0;0;0                         1\n",
      "2242332;0;0;0;0;0;0;0;0;0;0                           1\n",
      "2256349;0;0;0;0;0;0;0;0;0;0                           1\n",
      "2270366;0;0;0;0;0;0;0;0;0;0                           1\n",
      "2284382;0;0;0;0;0;0;0;0;0;0                           1\n",
      "2298399;1h18;26;12;1h42;5;fail;fail;pass;fail;pass    1\n",
      "2483953;57;0;0;0;0;fail;0;0;fail;fail                 1\n",
      "2431095;0;0;0;0;0;0;0;0;fail;fail                     1\n",
      "2328014;0;0;0;0;0;0;0;0;fail;fail                     1\n",
      "2483688;2d6h00;0;0;0;0;0;0;0;fail;fail                1\n",
      "1849534;18;0;0;0;0;fail;fail;fail;fail;fail           1\n",
      "2455304;0;0;;0;0;0;fail;fail;fail;fail                1\n",
      "2489211;0;;0;0;0;0;fail;fail;fail;fail                1\n",
      "2387231;38;3h52m;3;4;0;fail;fail;pass;fail;fail       1\n",
      "2443532;0;0;0;0;0;fail;fail;fail;fail;fail            1\n",
      "Name: student_ID;Q1_duaration;Q2_rate;Q3_rate;Q4_rate;Q5_rate;Q1_mark;Q2_mark;Q3_Mark;Q4_Mark;Q5_Mark, dtype: int64\n",
      "\n"
     ]
    }
   ],
   "source": [
    "\n",
    "\n",
    "GetCardinality(df,obj_columns)\n",
    "\n"
   ]
  },
  {
   "cell_type": "code",
   "execution_count": null,
   "metadata": {},
   "outputs": [],
   "source": []
  },
  {
   "cell_type": "code",
   "execution_count": 19,
   "metadata": {},
   "outputs": [
    {
     "ename": "ValueError",
     "evalue": "Could not interpret input 'student_ID'",
     "output_type": "error",
     "traceback": [
      "\u001b[1;31m---------------------------------------------------------------------------\u001b[0m",
      "\u001b[1;31mValueError\u001b[0m                                Traceback (most recent call last)",
      "Input \u001b[1;32mIn [19]\u001b[0m, in \u001b[0;36m<cell line: 3>\u001b[1;34m()\u001b[0m\n\u001b[0;32m      1\u001b[0m \u001b[38;5;66;03m# COURSE SUPPLIERS\u001b[39;00m\n\u001b[1;32m----> 3\u001b[0m \u001b[43msns\u001b[49m\u001b[38;5;241;43m.\u001b[39;49m\u001b[43mcountplot\u001b[49m\u001b[43m(\u001b[49m\u001b[43mx\u001b[49m\u001b[38;5;241;43m=\u001b[39;49m\u001b[38;5;124;43m'\u001b[39;49m\u001b[38;5;124;43mstudent_ID\u001b[39;49m\u001b[38;5;124;43m'\u001b[39;49m\u001b[43m,\u001b[49m\u001b[43m \u001b[49m\u001b[43mdata\u001b[49m\u001b[38;5;241;43m=\u001b[39;49m\u001b[43mdf\u001b[49m\u001b[43m)\u001b[49m;\n\u001b[0;32m      4\u001b[0m df[\u001b[38;5;124m'\u001b[39m\u001b[38;5;124mQ1_duaration\u001b[39m\u001b[38;5;124m'\u001b[39m]\u001b[38;5;241m.\u001b[39mvalue_counts()\n",
      "File \u001b[1;32m~\\anaconda3\\lib\\site-packages\\seaborn\\_decorators.py:46\u001b[0m, in \u001b[0;36m_deprecate_positional_args.<locals>.inner_f\u001b[1;34m(*args, **kwargs)\u001b[0m\n\u001b[0;32m     36\u001b[0m     warnings\u001b[38;5;241m.\u001b[39mwarn(\n\u001b[0;32m     37\u001b[0m         \u001b[38;5;124m\"\u001b[39m\u001b[38;5;124mPass the following variable\u001b[39m\u001b[38;5;132;01m{}\u001b[39;00m\u001b[38;5;124m as \u001b[39m\u001b[38;5;132;01m{}\u001b[39;00m\u001b[38;5;124mkeyword arg\u001b[39m\u001b[38;5;132;01m{}\u001b[39;00m\u001b[38;5;124m: \u001b[39m\u001b[38;5;132;01m{}\u001b[39;00m\u001b[38;5;124m. \u001b[39m\u001b[38;5;124m\"\u001b[39m\n\u001b[0;32m     38\u001b[0m         \u001b[38;5;124m\"\u001b[39m\u001b[38;5;124mFrom version 0.12, the only valid positional argument \u001b[39m\u001b[38;5;124m\"\u001b[39m\n\u001b[1;32m   (...)\u001b[0m\n\u001b[0;32m     43\u001b[0m         \u001b[38;5;167;01mFutureWarning\u001b[39;00m\n\u001b[0;32m     44\u001b[0m     )\n\u001b[0;32m     45\u001b[0m kwargs\u001b[38;5;241m.\u001b[39mupdate({k: arg \u001b[38;5;28;01mfor\u001b[39;00m k, arg \u001b[38;5;129;01min\u001b[39;00m \u001b[38;5;28mzip\u001b[39m(sig\u001b[38;5;241m.\u001b[39mparameters, args)})\n\u001b[1;32m---> 46\u001b[0m \u001b[38;5;28;01mreturn\u001b[39;00m f(\u001b[38;5;241m*\u001b[39m\u001b[38;5;241m*\u001b[39mkwargs)\n",
      "File \u001b[1;32m~\\anaconda3\\lib\\site-packages\\seaborn\\categorical.py:3598\u001b[0m, in \u001b[0;36mcountplot\u001b[1;34m(x, y, hue, data, order, hue_order, orient, color, palette, saturation, dodge, ax, **kwargs)\u001b[0m\n\u001b[0;32m   3595\u001b[0m \u001b[38;5;28;01melif\u001b[39;00m x \u001b[38;5;129;01mis\u001b[39;00m \u001b[38;5;129;01mnot\u001b[39;00m \u001b[38;5;28;01mNone\u001b[39;00m \u001b[38;5;129;01mand\u001b[39;00m y \u001b[38;5;129;01mis\u001b[39;00m \u001b[38;5;129;01mnot\u001b[39;00m \u001b[38;5;28;01mNone\u001b[39;00m:\n\u001b[0;32m   3596\u001b[0m     \u001b[38;5;28;01mraise\u001b[39;00m \u001b[38;5;167;01mValueError\u001b[39;00m(\u001b[38;5;124m\"\u001b[39m\u001b[38;5;124mCannot pass values for both `x` and `y`\u001b[39m\u001b[38;5;124m\"\u001b[39m)\n\u001b[1;32m-> 3598\u001b[0m plotter \u001b[38;5;241m=\u001b[39m \u001b[43m_CountPlotter\u001b[49m\u001b[43m(\u001b[49m\n\u001b[0;32m   3599\u001b[0m \u001b[43m    \u001b[49m\u001b[43mx\u001b[49m\u001b[43m,\u001b[49m\u001b[43m \u001b[49m\u001b[43my\u001b[49m\u001b[43m,\u001b[49m\u001b[43m \u001b[49m\u001b[43mhue\u001b[49m\u001b[43m,\u001b[49m\u001b[43m \u001b[49m\u001b[43mdata\u001b[49m\u001b[43m,\u001b[49m\u001b[43m \u001b[49m\u001b[43morder\u001b[49m\u001b[43m,\u001b[49m\u001b[43m \u001b[49m\u001b[43mhue_order\u001b[49m\u001b[43m,\u001b[49m\n\u001b[0;32m   3600\u001b[0m \u001b[43m    \u001b[49m\u001b[43mestimator\u001b[49m\u001b[43m,\u001b[49m\u001b[43m \u001b[49m\u001b[43mci\u001b[49m\u001b[43m,\u001b[49m\u001b[43m \u001b[49m\u001b[43mn_boot\u001b[49m\u001b[43m,\u001b[49m\u001b[43m \u001b[49m\u001b[43munits\u001b[49m\u001b[43m,\u001b[49m\u001b[43m \u001b[49m\u001b[43mseed\u001b[49m\u001b[43m,\u001b[49m\n\u001b[0;32m   3601\u001b[0m \u001b[43m    \u001b[49m\u001b[43morient\u001b[49m\u001b[43m,\u001b[49m\u001b[43m \u001b[49m\u001b[43mcolor\u001b[49m\u001b[43m,\u001b[49m\u001b[43m \u001b[49m\u001b[43mpalette\u001b[49m\u001b[43m,\u001b[49m\u001b[43m \u001b[49m\u001b[43msaturation\u001b[49m\u001b[43m,\u001b[49m\n\u001b[0;32m   3602\u001b[0m \u001b[43m    \u001b[49m\u001b[43merrcolor\u001b[49m\u001b[43m,\u001b[49m\u001b[43m \u001b[49m\u001b[43merrwidth\u001b[49m\u001b[43m,\u001b[49m\u001b[43m \u001b[49m\u001b[43mcapsize\u001b[49m\u001b[43m,\u001b[49m\u001b[43m \u001b[49m\u001b[43mdodge\u001b[49m\n\u001b[0;32m   3603\u001b[0m \u001b[43m\u001b[49m\u001b[43m)\u001b[49m\n\u001b[0;32m   3605\u001b[0m plotter\u001b[38;5;241m.\u001b[39mvalue_label \u001b[38;5;241m=\u001b[39m \u001b[38;5;124m\"\u001b[39m\u001b[38;5;124mcount\u001b[39m\u001b[38;5;124m\"\u001b[39m\n\u001b[0;32m   3607\u001b[0m \u001b[38;5;28;01mif\u001b[39;00m ax \u001b[38;5;129;01mis\u001b[39;00m \u001b[38;5;28;01mNone\u001b[39;00m:\n",
      "File \u001b[1;32m~\\anaconda3\\lib\\site-packages\\seaborn\\categorical.py:1584\u001b[0m, in \u001b[0;36m_BarPlotter.__init__\u001b[1;34m(self, x, y, hue, data, order, hue_order, estimator, ci, n_boot, units, seed, orient, color, palette, saturation, errcolor, errwidth, capsize, dodge)\u001b[0m\n\u001b[0;32m   1579\u001b[0m \u001b[38;5;28;01mdef\u001b[39;00m \u001b[38;5;21m__init__\u001b[39m(\u001b[38;5;28mself\u001b[39m, x, y, hue, data, order, hue_order,\n\u001b[0;32m   1580\u001b[0m              estimator, ci, n_boot, units, seed,\n\u001b[0;32m   1581\u001b[0m              orient, color, palette, saturation, errcolor,\n\u001b[0;32m   1582\u001b[0m              errwidth, capsize, dodge):\n\u001b[0;32m   1583\u001b[0m     \u001b[38;5;124;03m\"\"\"Initialize the plotter.\"\"\"\u001b[39;00m\n\u001b[1;32m-> 1584\u001b[0m     \u001b[38;5;28;43mself\u001b[39;49m\u001b[38;5;241;43m.\u001b[39;49m\u001b[43mestablish_variables\u001b[49m\u001b[43m(\u001b[49m\u001b[43mx\u001b[49m\u001b[43m,\u001b[49m\u001b[43m \u001b[49m\u001b[43my\u001b[49m\u001b[43m,\u001b[49m\u001b[43m \u001b[49m\u001b[43mhue\u001b[49m\u001b[43m,\u001b[49m\u001b[43m \u001b[49m\u001b[43mdata\u001b[49m\u001b[43m,\u001b[49m\u001b[43m \u001b[49m\u001b[43morient\u001b[49m\u001b[43m,\u001b[49m\n\u001b[0;32m   1585\u001b[0m \u001b[43m                             \u001b[49m\u001b[43morder\u001b[49m\u001b[43m,\u001b[49m\u001b[43m \u001b[49m\u001b[43mhue_order\u001b[49m\u001b[43m,\u001b[49m\u001b[43m \u001b[49m\u001b[43munits\u001b[49m\u001b[43m)\u001b[49m\n\u001b[0;32m   1586\u001b[0m     \u001b[38;5;28mself\u001b[39m\u001b[38;5;241m.\u001b[39mestablish_colors(color, palette, saturation)\n\u001b[0;32m   1587\u001b[0m     \u001b[38;5;28mself\u001b[39m\u001b[38;5;241m.\u001b[39mestimate_statistic(estimator, ci, n_boot, seed)\n",
      "File \u001b[1;32m~\\anaconda3\\lib\\site-packages\\seaborn\\categorical.py:153\u001b[0m, in \u001b[0;36m_CategoricalPlotter.establish_variables\u001b[1;34m(self, x, y, hue, data, orient, order, hue_order, units)\u001b[0m\n\u001b[0;32m    151\u001b[0m     \u001b[38;5;28;01mif\u001b[39;00m \u001b[38;5;28misinstance\u001b[39m(var, \u001b[38;5;28mstr\u001b[39m):\n\u001b[0;32m    152\u001b[0m         err \u001b[38;5;241m=\u001b[39m \u001b[38;5;124m\"\u001b[39m\u001b[38;5;124mCould not interpret input \u001b[39m\u001b[38;5;124m'\u001b[39m\u001b[38;5;132;01m{}\u001b[39;00m\u001b[38;5;124m'\u001b[39m\u001b[38;5;124m\"\u001b[39m\u001b[38;5;241m.\u001b[39mformat(var)\n\u001b[1;32m--> 153\u001b[0m         \u001b[38;5;28;01mraise\u001b[39;00m \u001b[38;5;167;01mValueError\u001b[39;00m(err)\n\u001b[0;32m    155\u001b[0m \u001b[38;5;66;03m# Figure out the plotting orientation\u001b[39;00m\n\u001b[0;32m    156\u001b[0m orient \u001b[38;5;241m=\u001b[39m infer_orient(\n\u001b[0;32m    157\u001b[0m     x, y, orient, require_numeric\u001b[38;5;241m=\u001b[39m\u001b[38;5;28mself\u001b[39m\u001b[38;5;241m.\u001b[39mrequire_numeric\n\u001b[0;32m    158\u001b[0m )\n",
      "\u001b[1;31mValueError\u001b[0m: Could not interpret input 'student_ID'"
     ]
    }
   ],
   "source": [
    "# COURSE SUPPLIERS\n",
    "\n",
    "sns.countplot(x='student_ID', data=df);\n",
    "df['Q1_duaration'].value_counts()"
   ]
  },
  {
   "cell_type": "code",
   "execution_count": null,
   "metadata": {},
   "outputs": [],
   "source": [
    "\n",
    "\n",
    "# AGE DISTRIBUTION FOR ALL OF THE COURSES\n",
    "\n",
    "\n",
    "\n",
    "df['Median Age'].hist()\n",
    "plt.title('Age Distribution For All the Courses')\n",
    "plt.xlabel('Student Ages');"
   ]
  },
  {
   "cell_type": "code",
   "execution_count": null,
   "metadata": {},
   "outputs": [],
   "source": [
    "\n",
    "# ANALYSING THE COURSE CATEGORIES\n",
    "\n",
    "\n",
    "\n",
    "print(df['Course Subject'].value_counts())\n",
    "df['Course Subject'].value_counts().plot(kind='barh')\n",
    "plt.title('Nu of Courses in the Subject Category');\n",
    "\n"
   ]
  },
  {
   "cell_type": "code",
   "execution_count": null,
   "metadata": {},
   "outputs": [],
   "source": [
    "\n",
    "\n",
    "\n",
    "# INITIAL STATISTICS OF THE COLUMNS\n",
    "\n",
    "df.describe().T\n",
    "\n"
   ]
  },
  {
   "cell_type": "code",
   "execution_count": null,
   "metadata": {},
   "outputs": [],
   "source": []
  },
  {
   "cell_type": "code",
   "execution_count": null,
   "metadata": {},
   "outputs": [],
   "source": []
  },
  {
   "cell_type": "code",
   "execution_count": null,
   "metadata": {},
   "outputs": [],
   "source": []
  },
  {
   "cell_type": "code",
   "execution_count": 48,
   "metadata": {
    "id": "uywl43XRe2Zn"
   },
   "outputs": [],
   "source": [
    "def GetCountPlots_with_hue(df,obj_columns,col_hue):\n",
    "    for col in obj_columns:\n",
    "        if(len(df[col].value_counts()) < 5):\n",
    "            plt.figure(figsize=(5,5))\n",
    "        else:\n",
    "            plt.figure(figsize=(12,6))\n",
    "        #print(sns.countplot(x=col, data=df, palette=\"muted\"))\n",
    "        sns.countplot(x=col,data = df, hue=col_hue,palette='bright')\n",
    "        plt.show()"
   ]
  },
  {
   "cell_type": "code",
   "execution_count": null,
   "metadata": {
    "id": "bTVuA2kEfQwE"
   },
   "outputs": [],
   "source": [
    "\n",
    "\n",
    "GetCountPlots_with_hue(df,obj_columns,'Class')\n",
    "\n"
   ]
  },
  {
   "cell_type": "code",
   "execution_count": null,
   "metadata": {
    "id": "tYriQq2GfRUe"
   },
   "outputs": [],
   "source": [
    "def GetBoxPlots(df,x_col):\n",
    "    for col in int_columns:\n",
    "        plt.figure(figsize=(5,5))\n",
    "        boxplot1 = sns.boxplot(x=x_col, y=col, data=df)\n",
    "        boxplot1 = sns.swarmplot(x=x_col, y=col, data=df, color=\".15\")\n",
    "        plt.show()\n",
    "        "
   ]
  },
  {
   "cell_type": "code",
   "execution_count": null,
   "metadata": {
    "id": "nU3CZE3ufb0L"
   },
   "outputs": [],
   "source": [
    "df['Failed'] = np.where(df['Class']=='L',1,0)\n"
   ]
  },
  {
   "cell_type": "code",
   "execution_count": null,
   "metadata": {
    "id": "5vi1_Khgfrhl"
   },
   "outputs": [],
   "source": [
    "df['AbsBoolean'] = df['views video']\n",
    "df['AbsBoolean'] = np.where(df['AbsBoolean'] == 'Under-7',0,1)\n",
    "df['AbsBoolean'].groupby(df['Topic']).mean()"
   ]
  },
  {
   "cell_type": "code",
   "execution_count": null,
   "metadata": {
    "id": "rvTDG5C_f2-m"
   },
   "outputs": [],
   "source": [
    "\n",
    "\n",
    "df.head()\n",
    "\n"
   ]
  },
  {
   "cell_type": "code",
   "execution_count": null,
   "metadata": {
    "id": "hW9HYixkf7bF"
   },
   "outputs": [],
   "source": [
    "\n",
    "\n",
    "df.info()\n",
    "\n",
    "\n"
   ]
  },
  {
   "cell_type": "code",
   "execution_count": null,
   "metadata": {
    "id": "ntkuITY5gBBP"
   },
   "outputs": [],
   "source": [
    "def NumaricVariablesDistributions(df):\n",
    "    int_columns=df.columns[df.dtypes==int]\n",
    "    plt.figure(figsize=(10,7))\n",
    "    for i, column in enumerate(int_columns):\n",
    "        plt.subplot(3,2, i+1)\n",
    "        sns.distplot(df[column], label=column, bins=10, fit=norm)\n",
    "        plt.ylabel('Density');"
   ]
  },
  {
   "cell_type": "code",
   "execution_count": null,
   "metadata": {
    "id": "2brW6TqsgJP9"
   },
   "outputs": [],
   "source": [
    "NumaricVariablesDistributions(df)  \n",
    "\n",
    "#Features doesn't have gaussian (normal) distribution.\n",
    "#As ML algorithms deal better with values, which are normally distributed"
   ]
  },
  {
   "cell_type": "code",
   "execution_count": null,
   "metadata": {
    "id": "EnyWYE4agJg2"
   },
   "outputs": [],
   "source": []
  },
  {
   "cell_type": "code",
   "execution_count": null,
   "metadata": {
    "id": "H4GrVZwhgJps"
   },
   "outputs": [],
   "source": []
  }
 ],
 "metadata": {
  "colab": {
   "collapsed_sections": [],
   "name": "Untitled9.ipynb",
   "provenance": []
  },
  "kernelspec": {
   "display_name": "Python 3 (ipykernel)",
   "language": "python",
   "name": "python3"
  },
  "language_info": {
   "codemirror_mode": {
    "name": "ipython",
    "version": 3
   },
   "file_extension": ".py",
   "mimetype": "text/x-python",
   "name": "python",
   "nbconvert_exporter": "python",
   "pygments_lexer": "ipython3",
   "version": "3.9.12"
  }
 },
 "nbformat": 4,
 "nbformat_minor": 1
}
