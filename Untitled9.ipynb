{
  "nbformat": 4,
  "nbformat_minor": 0,
  "metadata": {
    "colab": {
      "name": "Untitled9.ipynb",
      "provenance": [],
      "collapsed_sections": [],
      "authorship_tag": "ABX9TyNC661fTWPr9GlB7IZaKlMy",
      "include_colab_link": true
    },
    "kernelspec": {
      "name": "python3",
      "display_name": "Python 3"
    },
    "language_info": {
      "name": "python"
    }
  },
  "cells": [
    {
      "cell_type": "markdown",
      "metadata": {
        "id": "view-in-github",
        "colab_type": "text"
      },
      "source": [
        "<a href=\"https://colab.research.google.com/github/Boitymellow95/hippocampuseducation.ioFramework/blob/main/Untitled9.ipynb\" target=\"_parent\"><img src=\"https://colab.research.google.com/assets/colab-badge.svg\" alt=\"Open In Colab\"/></a>"
      ]
    },
    {
      "cell_type": "markdown",
      "source": [
        "hippocampuseducation  learning pattens and prediction models \n",
        "import libraries\n",
        "\n"
      ],
      "metadata": {
        "id": "uQnjnKSM2spN"
      }
    },
    {
      "cell_type": "markdown",
      "source": [
        ""
      ],
      "metadata": {
        "id": "7bN7exYu2rb0"
      }
    },
    {
      "cell_type": "code",
      "source": [
        "\n",
        "\n",
        "from mpl_toolkits.mplot3d import Axes3D\n",
        "from sklearn.preprocessing import StandardScaler\n",
        "import matplotlib.pyplot as plt # plotting\n",
        "import numpy as np # linear algebra\n",
        "import os # accessing directory structure\n",
        "import pandas as pd # data processing, CSV file I/O (e.g. pd.read_csv)\n",
        "\n"
      ],
      "metadata": {
        "id": "Tf2X8-6V2Rwh"
      },
      "execution_count": null,
      "outputs": []
    },
    {
      "cell_type": "code",
      "source": [
        "df = pd.read_csv \"hippocampus.csv\""
      ],
      "metadata": {
        "id": "TqjXjEac2pBh"
      },
      "execution_count": null,
      "outputs": []
    },
    {
      "cell_type": "code",
      "source": [
        "\n",
        "\n",
        "df.head()\n",
        "\n"
      ],
      "metadata": {
        "id": "dgUBc1fC2pYI"
      },
      "execution_count": null,
      "outputs": []
    },
    {
      "cell_type": "code",
      "source": [
        "df.tail()"
      ],
      "metadata": {
        "id": "SUzYNekz2pZE"
      },
      "execution_count": null,
      "outputs": []
    },
    {
      "cell_type": "code",
      "source": [
        "def DescriptiveStatistics(df):\n",
        "    print(\"No of rwos and columns information:\",df.shape)\n",
        "    print(\"\")\n",
        "    print(\"---\"*20)\n",
        "    print(\"\")\n",
        "    print(\"Columns:\")\n",
        "    print(\"\")\n",
        "    print(df.columns.values)\n",
        "    print(\"---\"*20)\n",
        "    print(\"\")\n",
        "    print(df.info())\n",
        "    print(\"---\"*20)\n",
        "    print(\"\")\n",
        "    print(df.describe())"
      ],
      "metadata": {
        "id": "DLUmP3dEa2Lh"
      },
      "execution_count": null,
      "outputs": []
    },
    {
      "cell_type": "code",
      "source": [
        "\n",
        "\n",
        "DescriptiveStatistics(df)\n",
        "\n"
      ],
      "metadata": {
        "id": "kxUfHO3ha22B"
      },
      "execution_count": null,
      "outputs": []
    },
    {
      "cell_type": "code",
      "source": [
        "def CheckMissingInfo(df):\n",
        "    print(df.isnull().sum())\n",
        "    print(\"---\"*20)\n",
        "    print(\"\")\n",
        "    df_na = (df.isnull().sum() / len(df)) * 100\n",
        "    df_na = df_na.drop(df_na[df_na == 0].index).sort_values(ascending=False)[:30]\n",
        "    missing_data = pd.DataFrame({'Missing Ratio' :df_na})\n",
        "    print(missing_data)"
      ],
      "metadata": {
        "id": "8jwicH8la2-I"
      },
      "execution_count": null,
      "outputs": []
    },
    {
      "cell_type": "code",
      "source": [
        "\n",
        "\n",
        "CheckMissingInfo(df)\n",
        "\n"
      ],
      "metadata": {
        "id": "cx7h2ubma3FD"
      },
      "execution_count": null,
      "outputs": []
    },
    {
      "cell_type": "code",
      "source": [
        "def GetColumnCount(df):\n",
        "    int_columns = [col for col in df.columns if(df[col].dtype != \"object\")]\n",
        "    print(\"No of integer type columns:\",len(int_columns))\n",
        "    print(int_columns)\n",
        "    print(\"\")\n",
        "    obj_columns = [col for col in df.columns if(df[col].dtype == \"object\")]\n",
        "    print(\"No of object type columns:\",len(obj_columns))\n",
        "    print(obj_columns)\n",
        "    return int_columns,obj_columns"
      ],
      "metadata": {
        "id": "26zPKQ5Wa3QD"
      },
      "execution_count": null,
      "outputs": []
    },
    {
      "cell_type": "code",
      "source": [
        "int_columns,obj_columns = GetColumnCount(df)"
      ],
      "metadata": {
        "id": "BMuNCc6tdpM6"
      },
      "execution_count": null,
      "outputs": []
    },
    {
      "cell_type": "code",
      "source": [
        ""
      ],
      "metadata": {
        "id": "dAP9DvBcdpbv"
      },
      "execution_count": null,
      "outputs": []
    },
    {
      "cell_type": "markdown",
      "source": [
        "VISUALS OF THE DATASET bold text"
      ],
      "metadata": {
        "id": "8nf43lVPd8_F"
      }
    },
    {
      "cell_type": "code",
      "source": [
        "def GetCountPlots(df,obj_columns):\n",
        "    for col in obj_columns:\n",
        "        if(len(df[col].value_counts()) < 5):\n",
        "            plt.figure(figsize=(5,5))\n",
        "        else:\n",
        "            plt.figure(figsize=(12,6))\n",
        "        print(sns.countplot(x=col, data=df, palette=\"muted\"))\n",
        "        plt.show()"
      ],
      "metadata": {
        "id": "hGw2sbmZdpc9"
      },
      "execution_count": null,
      "outputs": []
    },
    {
      "cell_type": "code",
      "source": [
        "#bargraph of the learning events \n",
        "\n",
        "GetCountPlots(df,obj_columns)\n",
        "\n"
      ],
      "metadata": {
        "id": "81Fd18K1dpec"
      },
      "execution_count": null,
      "outputs": []
    },
    {
      "cell_type": "code",
      "source": [
        "\n",
        "\n",
        "def GetCardinality(df,obj_columns):\n",
        "    for col in obj_columns:\n",
        "        print(\"{0} :: {1}\".format(col,len(df[col].value_counts())))\n",
        "        \n",
        "        print(df[col].value_counts())\n",
        "        print(\"\")\n",
        "\n"
      ],
      "metadata": {
        "id": "8Gu9CeE9erJ_"
      },
      "execution_count": null,
      "outputs": []
    },
    {
      "cell_type": "code",
      "source": [
        "\n",
        "\n",
        "GetCardinality(df,obj_columns)\n",
        "\n"
      ],
      "metadata": {
        "id": "xQAgcjJpeyrs"
      },
      "execution_count": null,
      "outputs": []
    },
    {
      "cell_type": "code",
      "source": [
        "pd.crosstab(df['Class'],df['Topic'])"
      ],
      "metadata": {
        "id": "gddnIXQae2Oc"
      },
      "execution_count": null,
      "outputs": []
    },
    {
      "cell_type": "code",
      "source": [
        "def GetCountPlots_with_hue(df,obj_columns,col_hue):\n",
        "    for col in obj_columns:\n",
        "        if(len(df[col].value_counts()) < 5):\n",
        "            plt.figure(figsize=(5,5))\n",
        "        else:\n",
        "            plt.figure(figsize=(12,6))\n",
        "        #print(sns.countplot(x=col, data=df, palette=\"muted\"))\n",
        "        sns.countplot(x=col,data = df, hue=col_hue,palette='bright')\n",
        "        plt.show()"
      ],
      "metadata": {
        "id": "uywl43XRe2Zn"
      },
      "execution_count": null,
      "outputs": []
    },
    {
      "cell_type": "code",
      "source": [
        "\n",
        "\n",
        "GetCountPlots_with_hue(df,obj_columns,'Class')\n",
        "\n"
      ],
      "metadata": {
        "id": "bTVuA2kEfQwE"
      },
      "execution_count": null,
      "outputs": []
    },
    {
      "cell_type": "code",
      "source": [
        "def GetBoxPlots(df,x_col):\n",
        "    for col in int_columns:\n",
        "        plt.figure(figsize=(5,5))\n",
        "        boxplot1 = sns.boxplot(x=x_col, y=col, data=df)\n",
        "        boxplot1 = sns.swarmplot(x=x_col, y=col, data=df, color=\".15\")\n",
        "        plt.show()\n",
        "        "
      ],
      "metadata": {
        "id": "tYriQq2GfRUe"
      },
      "execution_count": null,
      "outputs": []
    },
    {
      "cell_type": "code",
      "source": [
        "df['Failed'] = np.where(df['Class']=='L',1,0)\n"
      ],
      "metadata": {
        "id": "nU3CZE3ufb0L"
      },
      "execution_count": null,
      "outputs": []
    },
    {
      "cell_type": "code",
      "source": [
        "df['AbsBoolean'] = df['views video']\n",
        "df['AbsBoolean'] = np.where(df['AbsBoolean'] == 'Under-7',0,1)\n",
        "df['AbsBoolean'].groupby(df['Topic']).mean()"
      ],
      "metadata": {
        "id": "5vi1_Khgfrhl"
      },
      "execution_count": null,
      "outputs": []
    },
    {
      "cell_type": "code",
      "source": [
        "\n",
        "\n",
        "df.head()\n",
        "\n"
      ],
      "metadata": {
        "id": "rvTDG5C_f2-m"
      },
      "execution_count": null,
      "outputs": []
    },
    {
      "cell_type": "code",
      "source": [
        "\n",
        "\n",
        "df.info()\n",
        "\n",
        "\n"
      ],
      "metadata": {
        "id": "hW9HYixkf7bF"
      },
      "execution_count": null,
      "outputs": []
    },
    {
      "cell_type": "code",
      "source": [
        "def NumaricVariablesDistributions(df):\n",
        "    int_columns=df.columns[df.dtypes==int]\n",
        "    plt.figure(figsize=(10,7))\n",
        "    for i, column in enumerate(int_columns):\n",
        "        plt.subplot(3,2, i+1)\n",
        "        sns.distplot(df[column], label=column, bins=10, fit=norm)\n",
        "        plt.ylabel('Density');"
      ],
      "metadata": {
        "id": "ntkuITY5gBBP"
      },
      "execution_count": null,
      "outputs": []
    },
    {
      "cell_type": "code",
      "source": [
        "NumaricVariablesDistributions(df)  \n",
        "\n",
        "#Features doesn't have gaussian (normal) distribution.\n",
        "#As ML algorithms deal better with values, which are normally distributed"
      ],
      "metadata": {
        "id": "2brW6TqsgJP9"
      },
      "execution_count": null,
      "outputs": []
    },
    {
      "cell_type": "code",
      "source": [
        ""
      ],
      "metadata": {
        "id": "EnyWYE4agJg2"
      },
      "execution_count": null,
      "outputs": []
    },
    {
      "cell_type": "code",
      "source": [
        ""
      ],
      "metadata": {
        "id": "H4GrVZwhgJps"
      },
      "execution_count": null,
      "outputs": []
    }
  ]
}